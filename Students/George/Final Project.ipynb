{
 "cells": [
  {
   "cell_type": "markdown",
   "metadata": {},
   "source": [
    "# SDSS ugriz Image Visualizer"
   ]
  },
  {
   "cell_type": "markdown",
   "metadata": {},
   "source": [
    "This tool takes SDSS ugriz photometric image files and allows you to view 3 different bands with adjustable intensities. The r band is chosen as the fixed band around which the other bands are aligned; two other bands can be chosen for compilation for the image. "
   ]
  },
  {
   "cell_type": "code",
   "execution_count": 1,
   "metadata": {},
   "outputs": [],
   "source": [
    "from astropy.io import fits\n",
    "import matplotlib.pyplot as plt\n",
    "from matplotlib.colors import LogNorm\n",
    "from astropy.visualization import make_lupton_rgb\n",
    "import ipywidgets as widgets\n",
    "from ipywidgets import interact\n",
    "import astropy as py\n",
    "import numpy as np\n",
    "from astropy.modeling import models as amod\n",
    "from astropy.modeling import fitting as afit\n",
    "from astropy.modeling import functional_models as fm\n",
    "import reproject as rp\n",
    "import matplotlib.image as mpimg\n",
    "import cv2"
   ]
  },
  {
   "cell_type": "markdown",
   "metadata": {},
   "source": [
    "A small catalog of Messier Objects have been assembled and can be chosen through a dropdown menu\n",
    "Two bands can be chosen from u, g, i, and z (be sure to choose two different ones)"
   ]
  },
  {
   "cell_type": "code",
   "execution_count": 41,
   "metadata": {},
   "outputs": [
    {
     "data": {
      "application/vnd.jupyter.widget-view+json": {
       "model_id": "99c4d88ad43849899d78833fd001fe39",
       "version_major": 2,
       "version_minor": 0
      },
      "text/plain": [
       "interactive(children=(Dropdown(description='x', options=('M40', 'M51', 'M61', 'M63', 'M64', 'M76', 'M81', 'M88…"
      ]
     },
     "metadata": {},
     "output_type": "display_data"
    },
    {
     "data": {
      "text/plain": [
       "<function __main__.ReadFiles(x, g, b)>"
      ]
     },
     "execution_count": 41,
     "metadata": {},
     "output_type": "execute_result"
    }
   ],
   "source": [
    "# create a function to read in the stored files based on the selection of the object and ugriz bands\n",
    "\n",
    "def ReadFiles(x,g,b):\n",
    "    global rBand, arrayG, arrayB, img\n",
    "    \n",
    "    img=mpimg.imread('./FitsData/'+x+'_Full.jpg')\n",
    "    img=cv2.flip(img, 0)\n",
    "    rBand = fits.getdata('./FitsData/'+x+'r.fits.bz2').astype(float)\n",
    "    r0 = fits.open('./FitsData/'+x+'r.fits.bz2', hdu=0)\n",
    "    g0 = fits.open('./FitsData/'+x+g+'.fits.bz2', hdu=0)\n",
    "    b0 = fits.open('./FitsData/'+x+b+'.fits.bz2', hdu=0)\n",
    "    arrayG, footprintG = rp.reproject_interp(g0,r0[0].header)\n",
    "    arrayB, footprintB = rp.reproject_interp(b0,r0[0].header)\n",
    "    \n",
    "MessList = ['M40','M51','M61','M63','M64','M76','M81','M88','M95','M97']\n",
    "CList=['g','u','i','z']\n",
    "\n",
    "interact(ReadFiles, x=MessList, g=CList, b=CList)"
   ]
  },
  {
   "cell_type": "code",
   "execution_count": 47,
   "metadata": {},
   "outputs": [
    {
     "data": {
      "application/vnd.jupyter.widget-view+json": {
       "model_id": "754886913e984a80bd91cfc1e61eebe5",
       "version_major": 2,
       "version_minor": 0
      },
      "text/plain": [
       "interactive(children=(FloatSlider(value=1.0, description='R', max=1.0, step=0.001), FloatSlider(value=1.0, des…"
      ]
     },
     "metadata": {},
     "output_type": "display_data"
    },
    {
     "data": {
      "text/plain": [
       "<function __main__.image(R, G, B)>"
      ]
     },
     "execution_count": 47,
     "metadata": {},
     "output_type": "execute_result"
    }
   ],
   "source": [
    "# Use variables to control the intensity of each of the bands\n",
    "# Lupton RGB function is used to compile the three band images into one rgb-type image\n",
    "# Create plot and implement interactive sliders for the three bands which will vary the intensity\n",
    "# A full composite image as displayed on the SDSS website is plotted for comparison\n",
    "\n",
    "def image(R,G,B):\n",
    "    r = R*rBand\n",
    "    g = G*arrayG\n",
    "    b = B*arrayB\n",
    "    rgb_image = make_lupton_rgb(r, g, b, stretch = 1)\n",
    "    \n",
    "    fig, ax = plt.subplots(2,1)\n",
    "    fig.set_size_inches(10,8)\n",
    "    fig.tight_layout()\n",
    "    ax[0].axis('off')\n",
    "    ax[1].axis('off')\n",
    "    ax[0].invert_yaxis()\n",
    "    ax[0].imshow(rgb_image, origin='lower');\n",
    "    ax[1].imshow(img, origin='lower');\n",
    "    \n",
    "interact(image, R=widgets.FloatSlider(min=0,max=1,value=1,step=0.001), \n",
    "         G=widgets.FloatSlider(min=0,max=1,value=1,step=0.001),\n",
    "         B=widgets.FloatSlider(min=0,max=1,value=1,step=0.001), continuous_update=False)"
   ]
  },
  {
   "cell_type": "markdown",
   "metadata": {},
   "source": [
    "Here's a larger version if you'd like to see more up-close!"
   ]
  },
  {
   "cell_type": "code",
   "execution_count": 48,
   "metadata": {},
   "outputs": [
    {
     "data": {
      "application/vnd.jupyter.widget-view+json": {
       "model_id": "3be354f9ab4a43b4bddceae8b93fcb95",
       "version_major": 2,
       "version_minor": 0
      },
      "text/plain": [
       "interactive(children=(FloatSlider(value=1.0, description='R', max=1.0, step=0.001), FloatSlider(value=1.0, des…"
      ]
     },
     "metadata": {},
     "output_type": "display_data"
    },
    {
     "data": {
      "text/plain": [
       "<function __main__.image(R, G, B)>"
      ]
     },
     "execution_count": 48,
     "metadata": {},
     "output_type": "execute_result"
    }
   ],
   "source": [
    "def image(R,G,B):\n",
    "    r = R*rBand\n",
    "    g = G*arrayG\n",
    "    b = B*arrayB\n",
    "    rgb_image = make_lupton_rgb(r, g, b, stretch = 1)\n",
    "    \n",
    "    fig, ax = plt.subplots()\n",
    "    fig.set_size_inches(10,10)\n",
    "    fig.tight_layout()\n",
    "    ax.imshow(rgb_image, origin='lower');\n",
    "    \n",
    "interact(image, R=widgets.FloatSlider(min=0,max=1,value=1,step=0.001), \n",
    "         G=widgets.FloatSlider(min=0,max=1,value=1,step=0.001),\n",
    "         B=widgets.FloatSlider(min=0,max=1,value=1,step=0.001), continuous_update=False)"
   ]
  }
 ],
 "metadata": {
  "kernelspec": {
   "display_name": "Python 3",
   "language": "python",
   "name": "python3"
  },
  "language_info": {
   "codemirror_mode": {
    "name": "ipython",
    "version": 3
   },
   "file_extension": ".py",
   "mimetype": "text/x-python",
   "name": "python",
   "nbconvert_exporter": "python",
   "pygments_lexer": "ipython3",
   "version": "3.7.1"
  }
 },
 "nbformat": 4,
 "nbformat_minor": 2
}
